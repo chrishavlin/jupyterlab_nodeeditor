{
 "cells": [
  {
   "cell_type": "code",
   "execution_count": 1,
   "id": "6ec1ab00-11f9-4bf9-83fc-33782afc3165",
   "metadata": {},
   "outputs": [],
   "source": [
    "from yggdrasil.examples import yamls as ex_yamls\n",
    "import yaml\n",
    "import jupyterlab_nodeeditor as jlne"
   ]
  },
  {
   "cell_type": "code",
   "execution_count": 8,
   "id": "aac6287f-5455-40d2-bcb1-e5a59f8baf54",
   "metadata": {},
   "outputs": [],
   "source": [
    "# Improved version of making a JLNE-compliant dictionary from a Yggdrasil Model YAML\n",
    "\n",
    "def dict_conversion(model_file):\n",
    "    # Using flags here in case I need them later, will remove if I don't\n",
    "    is_dict, is_list = False, False\n",
    "    \n",
    "    # If the type of the safe load is a dictionary, we know it is a single model\n",
    "    # If it is a list, then we have multiple models\n",
    "    # If it's neither, return the type so I can work on it\n",
    "    if type(model_file) is dict:\n",
    "        is_dict = True\n",
    "    elif type(model_file) is list:\n",
    "        is_list = True\n",
    "    else:\n",
    "        return (\"Unaccounted model type: \", type(model_file))\n",
    "    \n",
    "    # Let's do everything all at once, can split it up if needed\n",
    "    # Check if it's a single model (dictionary) or multiple (list)\n",
    "    if is_dict:\n",
    "        # Setup initial dictionary to be filled\n",
    "        new_dict, new_dict[\"inputs\"], new_dict[\"outputs\"],  = {}, [], []\n",
    "        new_dict[\"title\"] = model_file[\"name\"]\n",
    "        \n",
    "        # Fill in the Inputs\n",
    "        if \"input\" in model_file.keys():\n",
    "            for i, inp in enumerate(model_file[\"input\"]):\n",
    "                new_dict[\"inputs\"].append({'title': inp[\"name\"], 'key': f\"temp_in{i}\", 'socket_type': inp[\"default_file\"][\"filetype\"]})\n",
    "        elif \"inputs\" in model_file.keys():\n",
    "            for i, inp in enumerate(model_file[\"inputs\"]):\n",
    "                new_dict[\"inputs\"].append({'title': inp[\"name\"], 'key': f\"temp_in{i}\", 'socket_type': inp[\"default_file\"][\"filetype\"]})\n",
    "        \n",
    "        # Fill in the Outputs, same as inputs with name changes\n",
    "        if \"output\" in model_file.keys():\n",
    "            for o, out in enumerate(model_file[\"output\"]):\n",
    "                new_dict[\"outputs\"].append({'title': out[\"name\"], 'key': f\"temp_out{o}\", 'socket_type': out[\"default_file\"][\"filetype\"]})\n",
    "        elif \"outputs\" in model_file.keys():\n",
    "            for o, out in enumerate(model_file[\"outputs\"]):\n",
    "                new_dict[\"outputs\"].append({'title': out[\"name\"], 'key': f\"temp_out{o}\", 'socket_type': out[\"default_file\"][\"filetype\"]})\n",
    "        \n",
    "        # We return a list here so that way loading the models is uniform for both multi-model and single-model files\n",
    "        return [new_dict]\n",
    "    \n",
    "\n",
    "    # We can pretty much do the dictionary loop multiple times per model then return the list with minor adjustments noted below\n",
    "    elif is_list:\n",
    "        model_list = []\n",
    "        for model in model_file:\n",
    "            # Setup initial dictionary to be filled\n",
    "            new_dict, new_dict[\"inputs\"], new_dict[\"outputs\"],  = {}, [], []\n",
    "            new_dict[\"title\"] = model[\"name\"]\n",
    "        \n",
    "            # Fill in the Inputs, no enumeration needed here\n",
    "            # TO-DO For some reason, there is a list with a dictionary inside of it here, can fix this later\n",
    "            # Matt can probably help with this issue\n",
    "            if \"input\" in model.keys():\n",
    "                if \"type\" in model[\"input\"][0]:\n",
    "                    new_dict[\"inputs\"].append({'title': model[\"input\"][0][\"name\"], 'key': \"temp_in\", 'socket_type': model[\"input\"][0][\"type\"]})\n",
    "                else:\n",
    "                    new_dict[\"inputs\"].append({'title': model[\"input\"], 'key': \"temp_in\", 'socket_type': \"temp_socket\"})\n",
    "            elif \"inputs\" in model.keys():\n",
    "                if \"type\" in model[\"inputs\"][0]:\n",
    "                    new_dict[\"inputs\"].append({'title': model[\"inputs\"][0][\"name\"], 'key': \"temp_in\", 'socket_type': model[\"inputs\"][0][\"type\"]})\n",
    "                else:\n",
    "                    new_dict[\"inputs\"].append({'title': model[\"inputs\"], 'key': \"temp_in\", 'socket_type': \"temp_socket\"})\n",
    "        \n",
    "            # Fill in the Outputs, same as inputs with name changes\n",
    "            if \"output\" in model.keys():\n",
    "                if \"type\" in model[\"output\"][0]:\n",
    "                    new_dict[\"outputs\"].append({'title': model[\"output\"][0][\"name\"], 'key': \"temp_in\", 'socket_type': model[\"output\"][0][\"type\"]})\n",
    "                else:\n",
    "                    new_dict[\"outputs\"].append({'title': model[\"output\"], 'key': \"temp_in\", 'socket_type': \"temp_socket\"})\n",
    "            elif \"outputs\" in model.keys():\n",
    "                if \"type\" in model[\"outputs\"][0]:\n",
    "                    new_dict[\"outputs\"].append({'title': model[\"outputs\"][0][\"name\"], 'key': \"temp_in\", 'socket_type': model[\"outputs\"][0][\"type\"]})\n",
    "                else:\n",
    "                    new_dict[\"outputs\"].append({'title': model[\"outputs\"], 'key': \"temp_in\", 'socket_type': \"temp_socket\"})\n",
    "                    \n",
    "            model_list.append(new_dict)\n",
    "        \n",
    "        # Return the full converted list of models\n",
    "        return model_list\n",
    "    \n",
    "def extract_socket_types(model):\n",
    "    socket_types = set()\n",
    "    for inout in (\"inputs\", \"outputs\"):\n",
    "        if inout in model:\n",
    "            for inoutmodel in model[inout]:\n",
    "                socket_types.update((inoutmodel[\"socket_type\"],))\n",
    "    return tuple(socket_types)"
   ]
  },
  {
   "cell_type": "code",
   "execution_count": 3,
   "id": "92c23e1d-bf76-43e0-b1d1-7fbe53f2d83e",
   "metadata": {},
   "outputs": [],
   "source": [
    "# By default, load the photosynthesis model\n",
    "# ps - Node Editor instance that it is added to, default blank\n",
    "def load_model(ps = None):\n",
    "    # E.g. filepath: sample_models/sample_1.yml\n",
    "    filepath = input(\"Please enter filepath for model or leave blank for an example: \")\n",
    "    \n",
    "    # Variable that will be used as the processed model\n",
    "    fsample = None\n",
    "    \n",
    "    # Check to see if input is blank or not, run the respective code to get the model from file or the Photosynthesis example\n",
    "    if filepath:\n",
    "        with open(filepath, \"r\") as sample:\n",
    "            sample_model = yaml.safe_load(sample)\n",
    "            if \"model\" in sample_model.keys():\n",
    "                fsample = sample_model[\"model\"]\n",
    "            elif \"models\" in sample_model.keys():\n",
    "                fsample = sample_model[\"models\"]\n",
    "    else:\n",
    "        print(\"Loading Photosynthesis Model into Editor...\")\n",
    "        with open(ex_yamls['fakeplant']['python'], \"r\") as sample:\n",
    "            fsample = yaml.safe_load(sample)[\"model\"]\n",
    "    \n",
    "    # Convert it all and add it into the editor, then return the entire editor\n",
    "    ne_instance = ps or jlne.NodeEditor()\n",
    "    model_list = dict_conversion(fsample)    \n",
    "    for model in model_list:\n",
    "        socket_types = extract_socket_types(model)\n",
    "        ne_instance.add_component(model)\n",
    "    \n",
    "    return ne_instance"
   ]
  },
  {
   "cell_type": "code",
   "execution_count": 4,
   "id": "ed430de8-3816-48c9-91d6-e2e49ea11add",
   "metadata": {},
   "outputs": [],
   "source": [
    "with open(ex_yamls['fakeplant']['python'], \"r\") as sample:\n",
    "    fsample = yaml.safe_load(sample)[\"model\"]"
   ]
  },
  {
   "cell_type": "code",
   "execution_count": 32,
   "id": "7dd6363c-0255-4aaf-ae66-f22860c7884d",
   "metadata": {},
   "outputs": [],
   "source": [
    "model_list = dict_conversion(fsample)"
   ]
  },
  {
   "cell_type": "code",
   "execution_count": 33,
   "id": "0f98747b-6aa7-4ca8-976f-4020bd6e3b19",
   "metadata": {},
   "outputs": [
    {
     "data": {
      "text/plain": [
       "[{'inputs': [{'title': 'light_intensity',\n",
       "    'key': 'temp_in0',\n",
       "    'socket_type': 'table'},\n",
       "   {'title': 'temperature', 'key': 'temp_in1', 'socket_type': 'table'},\n",
       "   {'title': 'co2', 'key': 'temp_in2', 'socket_type': 'table'}],\n",
       "  'outputs': [{'title': 'photosynthesis_rate',\n",
       "    'key': 'temp_out0',\n",
       "    'socket_type': 'table'}],\n",
       "  'title': 'PhotosynthesisModel'}]"
      ]
     },
     "execution_count": 33,
     "metadata": {},
     "output_type": "execute_result"
    }
   ],
   "source": [
    "model_list"
   ]
  },
  {
   "cell_type": "code",
   "execution_count": 35,
   "id": "581edb65-fe3e-4063-835c-8343829f1b01",
   "metadata": {},
   "outputs": [
    {
     "data": {
      "text/plain": [
       "{'inputs': [{'title': 'light_intensity',\n",
       "   'key': 'temp_in0',\n",
       "   'socket_type': 'table'},\n",
       "  {'title': 'temperature', 'key': 'temp_in1', 'socket_type': 'table'},\n",
       "  {'title': 'co2', 'key': 'temp_in2', 'socket_type': 'table'}],\n",
       " 'outputs': [{'title': 'photosynthesis_rate',\n",
       "   'key': 'temp_out0',\n",
       "   'socket_type': 'table'}],\n",
       " 'title': 'PhotosynthesisModel',\n",
       " 'sockets': SocketCollection(socket_types=('table',))}"
      ]
     },
     "execution_count": 35,
     "metadata": {},
     "output_type": "execute_result"
    }
   ],
   "source": [
    "stypes = extract_socket_types(model_list[0])\n",
    "stypes = jlne.SocketCollection(socket_types=stypes)\n",
    "model_list[0][\"sockets\"] = stypes\n",
    "model_list[0]\n"
   ]
  },
  {
   "cell_type": "code",
   "execution_count": 36,
   "id": "961567b7-87a0-47b3-bd68-16a27919eea3",
   "metadata": {},
   "outputs": [],
   "source": [
    "ne = jlne.NodeEditor()\n",
    "ne.add_component(model_list[0])"
   ]
  },
  {
   "cell_type": "code",
   "execution_count": 30,
   "id": "2480ded4-13f0-46b3-8c43-e78d49c404a5",
   "metadata": {},
   "outputs": [
    {
     "data": {
      "application/vnd.jupyter.widget-view+json": {
       "model_id": "191be78cfe054820a5fc6ed828659ba7",
       "version_major": 2,
       "version_minor": 0
      },
      "text/plain": [
       "HBox(children=(NodeEditorModel(selected_node=None), Tab()))"
      ]
     },
     "metadata": {},
     "output_type": "display_data"
    }
   ],
   "source": [
    "ne"
   ]
  },
  {
   "cell_type": "markdown",
   "id": "9daec75a-0e86-4400-9519-148e7691c5be",
   "metadata": {
    "tags": []
   },
   "source": [
    "## Visual check\n",
    "Look at the model in the JLNE instance and ensure that it has all components that can connect."
   ]
  },
  {
   "cell_type": "code",
   "execution_count": 1,
   "id": "2a3e5246-dc6d-4012-ad31-b57d5eb77340",
   "metadata": {},
   "outputs": [
    {
     "data": {
      "text/plain": [
       "{'inputs': [{'title': 'light_intensity',\n",
       "   'key': 'temp_in_0',\n",
       "   'socket_type': 'table'},\n",
       "  {'title': 'temperature', 'key': 'temp_in_1', 'socket_type': 'table'},\n",
       "  {'title': 'co2', 'key': 'temp_in_2', 'socket_type': 'table'}],\n",
       " 'outputs': [{'title': 'photosynthesis_rate',\n",
       "   'key': 'temp_in_0',\n",
       "   'socket_type': 'table'}],\n",
       " 'title': 'PhotosynthesisModel'}"
      ]
     },
     "execution_count": 1,
     "metadata": {},
     "output_type": "execute_result"
    }
   ],
   "source": [
    "from jupyterlab_nodeeditor import ygg_support\n",
    "s = ygg_support.load_yggdrasil_sample()\n",
    "s.components[0]"
   ]
  },
  {
   "cell_type": "code",
   "execution_count": 2,
   "id": "ff04d893-1631-408c-ab37-2f2be3105d82",
   "metadata": {},
   "outputs": [
    {
     "data": {
      "text/plain": [
       "('table',)"
      ]
     },
     "execution_count": 2,
     "metadata": {},
     "output_type": "execute_result"
    }
   ],
   "source": [
    "s.sockets"
   ]
  },
  {
   "cell_type": "code",
   "execution_count": 3,
   "id": "e3e5e8a0-60d7-4013-95af-932d59547727",
   "metadata": {},
   "outputs": [],
   "source": [
    "import jupyterlab_nodeeditor as jlne"
   ]
  },
  {
   "cell_type": "code",
   "execution_count": 4,
   "id": "25f6a141-a8de-47e0-bc49-71fc28be69b1",
   "metadata": {},
   "outputs": [],
   "source": [
    "ne = jlne.NodeEditor(socket_types=s.sockets)"
   ]
  },
  {
   "cell_type": "code",
   "execution_count": 5,
   "id": "cca19aa6-b59b-4e15-aa6e-6a5ff4d64f2c",
   "metadata": {},
   "outputs": [],
   "source": [
    "ne.add_component(s.components[0])"
   ]
  },
  {
   "cell_type": "code",
   "execution_count": 6,
   "id": "bd0ddffb-c1bb-4a0a-a832-f9d21e4a4eb8",
   "metadata": {},
   "outputs": [
    {
     "data": {
      "application/vnd.jupyter.widget-view+json": {
       "model_id": "774f25c991aa405fbd105b80b0175d31",
       "version_major": 2,
       "version_minor": 0
      },
      "text/plain": [
       "HBox(children=(NodeEditorModel(selected_node=None), Tab()))"
      ]
     },
     "metadata": {},
     "output_type": "display_data"
    }
   ],
   "source": [
    "ne"
   ]
  },
  {
   "cell_type": "code",
   "execution_count": null,
   "id": "3554c781-ad7f-4ab3-9f7e-b9b9cca6d543",
   "metadata": {},
   "outputs": [],
   "source": []
  },
  {
   "cell_type": "code",
   "execution_count": 4,
   "id": "e03d1d57-fd5a-4171-a2e4-b432e4786ef7",
   "metadata": {},
   "outputs": [],
   "source": []
  },
  {
   "cell_type": "code",
   "execution_count": 5,
   "id": "d2f4faf8-1600-49bf-aae2-40c2472c6610",
   "metadata": {},
   "outputs": [
    {
     "data": {
      "application/vnd.jupyter.widget-view+json": {
       "model_id": "702a6b434cb44e308466a6a26b5b5897",
       "version_major": 2,
       "version_minor": 0
      },
      "text/plain": [
       "HBox(children=(NodeEditorModel(selected_node=None), Tab()))"
      ]
     },
     "metadata": {},
     "output_type": "display_data"
    }
   ],
   "source": [
    "ne"
   ]
  },
  {
   "cell_type": "code",
   "execution_count": null,
   "id": "8cb62abd-5491-4c92-abc0-d6fbf787a265",
   "metadata": {},
   "outputs": [],
   "source": []
  }
 ],
 "metadata": {
  "kernelspec": {
   "display_name": "nodeeditor",
   "language": "python",
   "name": "nodeeditor"
  },
  "language_info": {
   "codemirror_mode": {
    "name": "ipython",
    "version": 3
   },
   "file_extension": ".py",
   "mimetype": "text/x-python",
   "name": "python",
   "nbconvert_exporter": "python",
   "pygments_lexer": "ipython3",
   "version": "3.9.1"
  }
 },
 "nbformat": 4,
 "nbformat_minor": 5
}
